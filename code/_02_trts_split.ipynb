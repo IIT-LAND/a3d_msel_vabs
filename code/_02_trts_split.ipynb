{
 "cells": [
  {
   "cell_type": "code",
   "execution_count": 1,
   "id": "2a9ac86d",
   "metadata": {},
   "outputs": [],
   "source": [
    "#import \n",
    "import logging\n",
    "import numpy as np\n",
    "import pandas as pd\n",
    "import os\n",
    "from sklearn.model_selection import train_test_split\n",
    "from sklearn.preprocessing import StandardScaler\n",
    "from sklearn.cluster import KMeans\n",
    "from sklearn.impute import KNNImputer\n",
    "from sklearn.neighbors import KNeighborsClassifier\n",
    "from umap import UMAP\n",
    "import matplotlib.pyplot as plt\n",
    "from reval.best_nclust_cv import FindBestClustCV"
   ]
  },
  {
   "cell_type": "code",
   "execution_count": 2,
   "id": "86a9dbb0",
   "metadata": {},
   "outputs": [],
   "source": [
    "# set directories\n",
    "main_path = '...'\n",
    "data_path = os.path.join(main_path,\"data\")\n",
    "results_path = os.path.join(main_path,\"results\",\"reval\")\n",
    "plot_path = os.path.join(main_path,\"plot\")"
   ]
  },
  {
   "cell_type": "code",
   "execution_count": 3,
   "id": "3e5debed",
   "metadata": {},
   "outputs": [
    {
     "name": "stdout",
     "output_type": "stream",
     "text": [
      "(615, 18)\n"
     ]
    },
    {
     "name": "stderr",
     "output_type": "stream",
     "text": [
      "/var/folders/rh/77kk2d3j49zb39gx51f0mvzr0000gq/T/ipykernel_46226/1670936797.py:8: FutureWarning: In a future version of pandas all arguments of DataFrame.drop except for the argument 'labels' will be keyword-only\n",
      "  df.drop('Unnamed: 0', 1, inplace = True)\n"
     ]
    },
    {
     "data": {
      "text/html": [
       "<div>\n",
       "<style scoped>\n",
       "    .dataframe tbody tr th:only-of-type {\n",
       "        vertical-align: middle;\n",
       "    }\n",
       "\n",
       "    .dataframe tbody tr th {\n",
       "        vertical-align: top;\n",
       "    }\n",
       "\n",
       "    .dataframe thead th {\n",
       "        text-align: right;\n",
       "    }\n",
       "</style>\n",
       "<table border=\"1\" class=\"dataframe\">\n",
       "  <thead>\n",
       "    <tr style=\"text-align: right;\">\n",
       "      <th></th>\n",
       "      <th>interview_age_VABS</th>\n",
       "      <th>collection_id</th>\n",
       "      <th>interview_age_MELS</th>\n",
       "      <th>DQ_VR</th>\n",
       "      <th>DQ_FM</th>\n",
       "      <th>DQ_RL</th>\n",
       "      <th>DQ_EL</th>\n",
       "      <th>DQ_GM</th>\n",
       "      <th>communicationdomain_totalb</th>\n",
       "      <th>livingskillsdomain_totalb</th>\n",
       "      <th>socializationdomain_totalb</th>\n",
       "      <th>motorskillsdomain_totalb</th>\n",
       "      <th>composite_totalb</th>\n",
       "      <th>age_diff</th>\n",
       "      <th>sex</th>\n",
       "      <th>phenotype</th>\n",
       "      <th>edition</th>\n",
       "      <th>format</th>\n",
       "    </tr>\n",
       "    <tr>\n",
       "      <th>subjectkey</th>\n",
       "      <th></th>\n",
       "      <th></th>\n",
       "      <th></th>\n",
       "      <th></th>\n",
       "      <th></th>\n",
       "      <th></th>\n",
       "      <th></th>\n",
       "      <th></th>\n",
       "      <th></th>\n",
       "      <th></th>\n",
       "      <th></th>\n",
       "      <th></th>\n",
       "      <th></th>\n",
       "      <th></th>\n",
       "      <th></th>\n",
       "      <th></th>\n",
       "      <th></th>\n",
       "      <th></th>\n",
       "    </tr>\n",
       "  </thead>\n",
       "  <tbody>\n",
       "    <tr>\n",
       "      <th>NDAR_INV05NXW73Y</th>\n",
       "      <td>41</td>\n",
       "      <td>2666</td>\n",
       "      <td>41</td>\n",
       "      <td>63.0</td>\n",
       "      <td>68.0</td>\n",
       "      <td>39.0</td>\n",
       "      <td>59</td>\n",
       "      <td>NaN</td>\n",
       "      <td>85.0</td>\n",
       "      <td>75</td>\n",
       "      <td>74</td>\n",
       "      <td>78.0</td>\n",
       "      <td>74.0</td>\n",
       "      <td>0</td>\n",
       "      <td>M</td>\n",
       "      <td>Childhood Autism (F84)</td>\n",
       "      <td>2</td>\n",
       "      <td>survey</td>\n",
       "    </tr>\n",
       "    <tr>\n",
       "      <th>NDAR_INV09R9GRR7</th>\n",
       "      <td>30</td>\n",
       "      <td>2666</td>\n",
       "      <td>30</td>\n",
       "      <td>77.0</td>\n",
       "      <td>87.0</td>\n",
       "      <td>67.0</td>\n",
       "      <td>73</td>\n",
       "      <td>NaN</td>\n",
       "      <td>84.0</td>\n",
       "      <td>102</td>\n",
       "      <td>86</td>\n",
       "      <td>90.0</td>\n",
       "      <td>88.0</td>\n",
       "      <td>0</td>\n",
       "      <td>M</td>\n",
       "      <td>Atypical Autism (F84.1)</td>\n",
       "      <td>2</td>\n",
       "      <td>survey</td>\n",
       "    </tr>\n",
       "    <tr>\n",
       "      <th>NDAR_INV0ZL8HVW9</th>\n",
       "      <td>24</td>\n",
       "      <td>2666</td>\n",
       "      <td>24</td>\n",
       "      <td>46.0</td>\n",
       "      <td>83.0</td>\n",
       "      <td>33.0</td>\n",
       "      <td>38</td>\n",
       "      <td>NaN</td>\n",
       "      <td>46.0</td>\n",
       "      <td>65</td>\n",
       "      <td>65</td>\n",
       "      <td>84.0</td>\n",
       "      <td>62.0</td>\n",
       "      <td>0</td>\n",
       "      <td>F</td>\n",
       "      <td>Childhood Autism (F84)</td>\n",
       "      <td>2</td>\n",
       "      <td>survey</td>\n",
       "    </tr>\n",
       "    <tr>\n",
       "      <th>NDAR_INV38JW2ND8</th>\n",
       "      <td>38</td>\n",
       "      <td>2666</td>\n",
       "      <td>38</td>\n",
       "      <td>53.0</td>\n",
       "      <td>55.0</td>\n",
       "      <td>21.0</td>\n",
       "      <td>42</td>\n",
       "      <td>NaN</td>\n",
       "      <td>57.0</td>\n",
       "      <td>81</td>\n",
       "      <td>74</td>\n",
       "      <td>72.0</td>\n",
       "      <td>68.0</td>\n",
       "      <td>0</td>\n",
       "      <td>M</td>\n",
       "      <td>Childhood Autism (F84)</td>\n",
       "      <td>2</td>\n",
       "      <td>survey</td>\n",
       "    </tr>\n",
       "    <tr>\n",
       "      <th>NDAR_INV568FMEMT</th>\n",
       "      <td>34</td>\n",
       "      <td>2666</td>\n",
       "      <td>34</td>\n",
       "      <td>29.0</td>\n",
       "      <td>32.0</td>\n",
       "      <td>9.0</td>\n",
       "      <td>26</td>\n",
       "      <td>NaN</td>\n",
       "      <td>59.0</td>\n",
       "      <td>64</td>\n",
       "      <td>61</td>\n",
       "      <td>69.0</td>\n",
       "      <td>61.0</td>\n",
       "      <td>0</td>\n",
       "      <td>F</td>\n",
       "      <td>Childhood Autism (F84)</td>\n",
       "      <td>2</td>\n",
       "      <td>survey</td>\n",
       "    </tr>\n",
       "    <tr>\n",
       "      <th>NDAR_INV6AY1XPK6</th>\n",
       "      <td>33</td>\n",
       "      <td>2666</td>\n",
       "      <td>33</td>\n",
       "      <td>139.0</td>\n",
       "      <td>94.0</td>\n",
       "      <td>167.0</td>\n",
       "      <td>152</td>\n",
       "      <td>NaN</td>\n",
       "      <td>101.0</td>\n",
       "      <td>93</td>\n",
       "      <td>74</td>\n",
       "      <td>88.0</td>\n",
       "      <td>86.0</td>\n",
       "      <td>0</td>\n",
       "      <td>M</td>\n",
       "      <td>Childhood Autism (F84)</td>\n",
       "      <td>2</td>\n",
       "      <td>survey</td>\n",
       "    </tr>\n",
       "    <tr>\n",
       "      <th>NDAR_INV6B2JCVZC</th>\n",
       "      <td>25</td>\n",
       "      <td>2666</td>\n",
       "      <td>36</td>\n",
       "      <td>69.0</td>\n",
       "      <td>75.0</td>\n",
       "      <td>78.0</td>\n",
       "      <td>75</td>\n",
       "      <td>NaN</td>\n",
       "      <td>89.0</td>\n",
       "      <td>93</td>\n",
       "      <td>78</td>\n",
       "      <td>105.0</td>\n",
       "      <td>89.0</td>\n",
       "      <td>-11</td>\n",
       "      <td>M</td>\n",
       "      <td>Childhood Autism (F84)</td>\n",
       "      <td>2</td>\n",
       "      <td>survey</td>\n",
       "    </tr>\n",
       "    <tr>\n",
       "      <th>NDAR_INV6NNF1U9G</th>\n",
       "      <td>32</td>\n",
       "      <td>2666</td>\n",
       "      <td>32</td>\n",
       "      <td>62.0</td>\n",
       "      <td>66.0</td>\n",
       "      <td>16.0</td>\n",
       "      <td>38</td>\n",
       "      <td>NaN</td>\n",
       "      <td>54.0</td>\n",
       "      <td>62</td>\n",
       "      <td>70</td>\n",
       "      <td>74.0</td>\n",
       "      <td>62.0</td>\n",
       "      <td>0</td>\n",
       "      <td>M</td>\n",
       "      <td>Childhood Autism (F84)</td>\n",
       "      <td>2</td>\n",
       "      <td>survey</td>\n",
       "    </tr>\n",
       "    <tr>\n",
       "      <th>NDAR_INVAC323FPZ</th>\n",
       "      <td>41</td>\n",
       "      <td>2368</td>\n",
       "      <td>41</td>\n",
       "      <td>73.0</td>\n",
       "      <td>88.0</td>\n",
       "      <td>49.0</td>\n",
       "      <td>63</td>\n",
       "      <td>NaN</td>\n",
       "      <td>89.0</td>\n",
       "      <td>85</td>\n",
       "      <td>77</td>\n",
       "      <td>104.0</td>\n",
       "      <td>86.0</td>\n",
       "      <td>0</td>\n",
       "      <td>M</td>\n",
       "      <td>Autism</td>\n",
       "      <td>2</td>\n",
       "      <td>survey</td>\n",
       "    </tr>\n",
       "    <tr>\n",
       "      <th>NDAR_INVAN616MT8</th>\n",
       "      <td>27</td>\n",
       "      <td>2666</td>\n",
       "      <td>27</td>\n",
       "      <td>37.0</td>\n",
       "      <td>52.0</td>\n",
       "      <td>33.0</td>\n",
       "      <td>33</td>\n",
       "      <td>NaN</td>\n",
       "      <td>66.0</td>\n",
       "      <td>62</td>\n",
       "      <td>63</td>\n",
       "      <td>72.0</td>\n",
       "      <td>63.0</td>\n",
       "      <td>0</td>\n",
       "      <td>F</td>\n",
       "      <td>Childhood Autism (F84)</td>\n",
       "      <td>2</td>\n",
       "      <td>survey</td>\n",
       "    </tr>\n",
       "  </tbody>\n",
       "</table>\n",
       "</div>"
      ],
      "text/plain": [
       "                  interview_age_VABS  collection_id  interview_age_MELS  \\\n",
       "subjectkey                                                                \n",
       "NDAR_INV05NXW73Y                  41           2666                  41   \n",
       "NDAR_INV09R9GRR7                  30           2666                  30   \n",
       "NDAR_INV0ZL8HVW9                  24           2666                  24   \n",
       "NDAR_INV38JW2ND8                  38           2666                  38   \n",
       "NDAR_INV568FMEMT                  34           2666                  34   \n",
       "NDAR_INV6AY1XPK6                  33           2666                  33   \n",
       "NDAR_INV6B2JCVZC                  25           2666                  36   \n",
       "NDAR_INV6NNF1U9G                  32           2666                  32   \n",
       "NDAR_INVAC323FPZ                  41           2368                  41   \n",
       "NDAR_INVAN616MT8                  27           2666                  27   \n",
       "\n",
       "                  DQ_VR  DQ_FM  DQ_RL  DQ_EL  DQ_GM  \\\n",
       "subjectkey                                            \n",
       "NDAR_INV05NXW73Y   63.0   68.0   39.0     59    NaN   \n",
       "NDAR_INV09R9GRR7   77.0   87.0   67.0     73    NaN   \n",
       "NDAR_INV0ZL8HVW9   46.0   83.0   33.0     38    NaN   \n",
       "NDAR_INV38JW2ND8   53.0   55.0   21.0     42    NaN   \n",
       "NDAR_INV568FMEMT   29.0   32.0    9.0     26    NaN   \n",
       "NDAR_INV6AY1XPK6  139.0   94.0  167.0    152    NaN   \n",
       "NDAR_INV6B2JCVZC   69.0   75.0   78.0     75    NaN   \n",
       "NDAR_INV6NNF1U9G   62.0   66.0   16.0     38    NaN   \n",
       "NDAR_INVAC323FPZ   73.0   88.0   49.0     63    NaN   \n",
       "NDAR_INVAN616MT8   37.0   52.0   33.0     33    NaN   \n",
       "\n",
       "                  communicationdomain_totalb  livingskillsdomain_totalb  \\\n",
       "subjectkey                                                                \n",
       "NDAR_INV05NXW73Y                        85.0                         75   \n",
       "NDAR_INV09R9GRR7                        84.0                        102   \n",
       "NDAR_INV0ZL8HVW9                        46.0                         65   \n",
       "NDAR_INV38JW2ND8                        57.0                         81   \n",
       "NDAR_INV568FMEMT                        59.0                         64   \n",
       "NDAR_INV6AY1XPK6                       101.0                         93   \n",
       "NDAR_INV6B2JCVZC                        89.0                         93   \n",
       "NDAR_INV6NNF1U9G                        54.0                         62   \n",
       "NDAR_INVAC323FPZ                        89.0                         85   \n",
       "NDAR_INVAN616MT8                        66.0                         62   \n",
       "\n",
       "                  socializationdomain_totalb  motorskillsdomain_totalb  \\\n",
       "subjectkey                                                               \n",
       "NDAR_INV05NXW73Y                          74                      78.0   \n",
       "NDAR_INV09R9GRR7                          86                      90.0   \n",
       "NDAR_INV0ZL8HVW9                          65                      84.0   \n",
       "NDAR_INV38JW2ND8                          74                      72.0   \n",
       "NDAR_INV568FMEMT                          61                      69.0   \n",
       "NDAR_INV6AY1XPK6                          74                      88.0   \n",
       "NDAR_INV6B2JCVZC                          78                     105.0   \n",
       "NDAR_INV6NNF1U9G                          70                      74.0   \n",
       "NDAR_INVAC323FPZ                          77                     104.0   \n",
       "NDAR_INVAN616MT8                          63                      72.0   \n",
       "\n",
       "                  composite_totalb  age_diff sex                phenotype  \\\n",
       "subjectkey                                                                  \n",
       "NDAR_INV05NXW73Y              74.0         0   M   Childhood Autism (F84)   \n",
       "NDAR_INV09R9GRR7              88.0         0   M  Atypical Autism (F84.1)   \n",
       "NDAR_INV0ZL8HVW9              62.0         0   F   Childhood Autism (F84)   \n",
       "NDAR_INV38JW2ND8              68.0         0   M   Childhood Autism (F84)   \n",
       "NDAR_INV568FMEMT              61.0         0   F   Childhood Autism (F84)   \n",
       "NDAR_INV6AY1XPK6              86.0         0   M   Childhood Autism (F84)   \n",
       "NDAR_INV6B2JCVZC              89.0       -11   M   Childhood Autism (F84)   \n",
       "NDAR_INV6NNF1U9G              62.0         0   M   Childhood Autism (F84)   \n",
       "NDAR_INVAC323FPZ              86.0         0   M                   Autism   \n",
       "NDAR_INVAN616MT8              63.0         0   F   Childhood Autism (F84)   \n",
       "\n",
       "                  edition  format  \n",
       "subjectkey                         \n",
       "NDAR_INV05NXW73Y        2  survey  \n",
       "NDAR_INV09R9GRR7        2  survey  \n",
       "NDAR_INV0ZL8HVW9        2  survey  \n",
       "NDAR_INV38JW2ND8        2  survey  \n",
       "NDAR_INV568FMEMT        2  survey  \n",
       "NDAR_INV6AY1XPK6        2  survey  \n",
       "NDAR_INV6B2JCVZC        2  survey  \n",
       "NDAR_INV6NNF1U9G        2  survey  \n",
       "NDAR_INVAC323FPZ        2  survey  \n",
       "NDAR_INVAN616MT8        2  survey  "
      ]
     },
     "execution_count": 3,
     "metadata": {},
     "output_type": "execute_result"
    }
   ],
   "source": [
    "# load file already cleaned from the previous script\n",
    "file = 'VABS_MSEL_24_68month_oct23.csv'\n",
    "df = pd.read_csv(os.path.join(data_path,file),\n",
    "                        header=0,\n",
    "                        #skiprows=[1],\n",
    "                        low_memory=False,\n",
    "                        index_col='subjectkey')\n",
    "\n",
    "df.drop('Unnamed: 0', 1, inplace = True)\n",
    "print(df.shape)\n",
    "df.head(10)"
   ]
  },
  {
   "cell_type": "code",
   "execution_count": 4,
   "id": "38d5feda",
   "metadata": {},
   "outputs": [],
   "source": [
    "# columns names\n",
    "vabs_names = ['communicationdomain_totalb','livingskillsdomain_totalb',\n",
    "              'socializationdomain_totalb','motorskillsdomain_totalb']\n",
    "mels_names = [\"DQ_VR\", \"DQ_FM\",\n",
    "               \"DQ_RL\",  \"DQ_EL\"]\n",
    "col2use = vabs_names + mels_names"
   ]
  },
  {
   "cell_type": "code",
   "execution_count": 5,
   "id": "dfba786f",
   "metadata": {},
   "outputs": [],
   "source": [
    "# age : compute the mean\n",
    "df['mean_age_round'] =  df[[ 'interview_age_MELS','interview_age_VABS']].mean(axis=1).round()\n",
    "df['age_years_round'] = (df['mean_age_round']/12).round()\n",
    "# quantile of the mean\n",
    "df['quantile_age'] = pd.qcut(df['mean_age_round'], 4,labels=range(4))"
   ]
  },
  {
   "cell_type": "code",
   "execution_count": 6,
   "id": "69f10a0e",
   "metadata": {},
   "outputs": [
    {
     "data": {
      "text/plain": [
       "subjectkey\n",
       "NDAR_INV05NXW73Y    3.0\n",
       "NDAR_INV09R9GRR7    2.0\n",
       "NDAR_INV0ZL8HVW9    2.0\n",
       "NDAR_INV38JW2ND8    3.0\n",
       "NDAR_INV568FMEMT    3.0\n",
       "                   ... \n",
       "NDARZY028AAX        3.0\n",
       "NDARZY745FRN        2.0\n",
       "NDARZY876WKV        3.0\n",
       "NDARZZ184CHR        2.0\n",
       "NDARZZ556ECU        2.0\n",
       "Name: age_years_round, Length: 615, dtype: float64"
      ]
     },
     "execution_count": 6,
     "metadata": {},
     "output_type": "execute_result"
    }
   ],
   "source": [
    "df['age_years_round']"
   ]
  },
  {
   "cell_type": "code",
   "execution_count": 7,
   "id": "5e083f16",
   "metadata": {},
   "outputs": [
    {
     "data": {
      "text/plain": [
       "<AxesSubplot:>"
      ]
     },
     "execution_count": 7,
     "metadata": {},
     "output_type": "execute_result"
    },
    {
     "data": {
      "image/png": "[encoded data removed]",
      "text/plain": [
       "<Figure size 432x288 with 1 Axes>"
      ]
     },
     "metadata": {
      "needs_background": "light"
     },
     "output_type": "display_data"
    }
   ],
   "source": [
    "# define stratidfication vectors (Sex- VABS fromat- age quantile)\n",
    "strat_vect = df['sex'] + df['format'] + df['quantile_age'].astype(\"str\")\n",
    "strat_vect.hist()"
   ]
  },
  {
   "cell_type": "code",
   "execution_count": 8,
   "id": "fa600311",
   "metadata": {
    "scrolled": true
   },
   "outputs": [
    {
     "data": {
      "text/plain": [
       "Msurvey3       114\n",
       "Msurvey0        87\n",
       "Msurvey2        85\n",
       "Msurvey1        73\n",
       "Minterview0     40\n",
       "Minterview1     31\n",
       "Finterview1     28\n",
       "Finterview2     28\n",
       "Fsurvey3        25\n",
       "Minterview2     24\n",
       "Fsurvey2        23\n",
       "Fsurvey0        20\n",
       "Finterview0     19\n",
       "Fsurvey1        11\n",
       "Minterview3      6\n",
       "Finterview3      1\n",
       "dtype: int64"
      ]
     },
     "execution_count": 8,
     "metadata": {},
     "output_type": "execute_result"
    }
   ],
   "source": [
    "#check if statification bins have more than 1 observation each\n",
    "strat_vect.value_counts()"
   ]
  },
  {
   "cell_type": "code",
   "execution_count": 9,
   "id": "b036d327",
   "metadata": {},
   "outputs": [
    {
     "data": {
      "text/plain": [
       "Msurvey3       False\n",
       "Msurvey0       False\n",
       "Msurvey2       False\n",
       "Msurvey1       False\n",
       "Minterview0    False\n",
       "Minterview1    False\n",
       "Finterview1    False\n",
       "Finterview2    False\n",
       "Fsurvey3       False\n",
       "Minterview2    False\n",
       "Fsurvey2       False\n",
       "Fsurvey0       False\n",
       "Finterview0    False\n",
       "Fsurvey1       False\n",
       "Minterview3    False\n",
       "Finterview3     True\n",
       "dtype: bool"
      ]
     },
     "execution_count": 9,
     "metadata": {},
     "output_type": "execute_result"
    }
   ],
   "source": [
    "strat_vect.value_counts()==1"
   ]
  },
  {
   "cell_type": "code",
   "execution_count": 13,
   "id": "7c9b15c3",
   "metadata": {},
   "outputs": [
    {
     "data": {
      "text/plain": [
       "Msurvey3       114\n",
       "Msurvey0        87\n",
       "Msurvey2        85\n",
       "Msurvey1        73\n",
       "Minterview0     40\n",
       "Minterview1     31\n",
       "Finterview2     29\n",
       "Finterview1     28\n",
       "Fsurvey3        25\n",
       "Minterview2     24\n",
       "Fsurvey2        23\n",
       "Fsurvey0        20\n",
       "Finterview0     19\n",
       "Fsurvey1        11\n",
       "Minterview3      6\n",
       "dtype: int64"
      ]
     },
     "execution_count": 13,
     "metadata": {},
     "output_type": "execute_result"
    }
   ],
   "source": [
    "# there is only 1 Finterview3\n",
    "# I change it to Finterview2\n",
    "strat_vect[strat_vect == 'Finterview3']='Finterview2'\n",
    "strat_vect.value_counts()"
   ]
  },
  {
   "cell_type": "code",
   "execution_count": null,
   "id": "0b42ed00",
   "metadata": {},
   "outputs": [],
   "source": [
    "# train and test split\n",
    "X_tr_split, X_ts_split = train_test_split(df,\n",
    "                             stratify = strat_vect,\n",
    "                             test_size=0.33,\n",
    "                             random_state=42)\n",
    "print('there are ',X_tr_split.shape,' subject in the train set')\n",
    "print('there are ',X_ts_split.shape,' subject in the test set')"
   ]
  },
  {
   "cell_type": "code",
   "execution_count": 15,
   "id": "15c4b765",
   "metadata": {},
   "outputs": [
    {
     "data": {
      "text/plain": [
       "<AxesSubplot:>"
      ]
     },
     "execution_count": 15,
     "metadata": {},
     "output_type": "execute_result"
    },
    {
     "data": {
      "image/png": "[encoded data removed]",
      "text/plain": [
       "<Figure size 432x288 with 1 Axes>"
      ]
     },
     "metadata": {
      "needs_background": "light"
     },
     "output_type": "display_data"
    }
   ],
   "source": [
    "X_tr_split['interview_age_VABS'].hist()"
   ]
  },
  {
   "cell_type": "code",
   "execution_count": 16,
   "id": "67519351",
   "metadata": {},
   "outputs": [
    {
     "data": {
      "text/plain": [
       "<AxesSubplot:>"
      ]
     },
     "execution_count": 16,
     "metadata": {},
     "output_type": "execute_result"
    },
    {
     "data": {
      "image/png": "[encoded data removed]",
      "text/plain": [
       "<Figure size 432x288 with 1 Axes>"
      ]
     },
     "metadata": {
      "needs_background": "light"
     },
     "output_type": "display_data"
    }
   ],
   "source": [
    "X_ts_split['interview_age_VABS'].hist()"
   ]
  },
  {
   "cell_type": "code",
   "execution_count": 17,
   "id": "3fed5999",
   "metadata": {},
   "outputs": [],
   "source": [
    "X_tr_split.to_csv(os.path.join(results_path,'TRAIN_oct23.csv'))\n",
    "X_ts_split.to_csv(os.path.join(results_path,'TEST_oct23.csv'))"
   ]
  },
  {
   "cell_type": "code",
   "execution_count": 18,
   "id": "d53c8544",
   "metadata": {},
   "outputs": [
    {
     "data": {
      "text/plain": [
       "'/Users/vmandelli/OneDrive - Fondazione Istituto Italiano Tecnologia/multiple_measures_oct23/results/reval'"
      ]
     },
     "execution_count": 18,
     "metadata": {},
     "output_type": "execute_result"
    }
   ],
   "source": [
    "results_path"
   ]
  }
 ],
 "metadata": {
  "kernelspec": {
   "display_name": "Python 3 (ipykernel)",
   "language": "python",
   "name": "python3"
  },
  "language_info": {
   "codemirror_mode": {
    "name": "ipython",
    "version": 3
   },
   "file_extension": ".py",
   "mimetype": "text/x-python",
   "name": "python",
   "nbconvert_exporter": "python",
   "pygments_lexer": "ipython3",
   "version": "3.11.7"
  }
 },
 "nbformat": 4,
 "nbformat_minor": 5
}
